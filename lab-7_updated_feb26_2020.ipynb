{
 "cells": [
  {
   "cell_type": "markdown",
   "metadata": {},
   "source": [
    "# CS342 Machine Learning\n",
    "## Lab 7: Convolutional neural networks\n",
    "\n",
    "### Department of Computer Science, University of Warwick"
   ]
  },
  {
   "cell_type": "markdown",
   "metadata": {},
   "source": [
    "In this lab, you will create a convolutional neural network (CNN) to classify the images of the MNIST dataset, a widely-used dataset of hand-written digits. We will use the images that have been denoised using your denoising autoencoder from **Lab 6**. If you have not yet completed lab 6, images that have already been de-noised are available to use instead. However, you are encouraged to use your own denoised images to get top marks."
   ]
  },
  {
   "cell_type": "markdown",
   "metadata": {},
   "source": [
    "The datasets for this lab are larger than those for previous labs. Therefore, we will load the data directly from the module directory, as shown below. If you would like to work on the lab using your own machine, copy the data across by running the following command in a terminal window:\n",
    "\n",
    "```scp USERNAME@login-3.dcs.warwick.ac.uk:/modules/cs342/2019/lab7/data/* .```\n",
    "\n",
    "After entering your DCS password, this will copy the data to your current working directory."
   ]
  },
  {
   "cell_type": "markdown",
   "metadata": {},
   "source": [
    "Load the data required for this lab. **If you have completed Lab 6, replace ```mnist_test_x_denoised.npy``` with your own denoised data.**"
   ]
  },
  {
   "cell_type": "code",
   "execution_count": 1,
   "metadata": {},
   "outputs": [
    {
     "name": "stderr",
     "output_type": "stream",
     "text": [
      "Using TensorFlow backend.\n",
      "/local/java/python-pip-packages.cs342/lib64/python3.6/site-packages/tensorflow/python/framework/dtypes.py:516: FutureWarning: Passing (type, 1) or '1type' as a synonym of type is deprecated; in a future version of numpy, it will be understood as (type, (1,)) / '(1,)type'.\n",
      "  _np_qint8 = np.dtype([(\"qint8\", np.int8, 1)])\n",
      "/local/java/python-pip-packages.cs342/lib64/python3.6/site-packages/tensorflow/python/framework/dtypes.py:517: FutureWarning: Passing (type, 1) or '1type' as a synonym of type is deprecated; in a future version of numpy, it will be understood as (type, (1,)) / '(1,)type'.\n",
      "  _np_quint8 = np.dtype([(\"quint8\", np.uint8, 1)])\n",
      "/local/java/python-pip-packages.cs342/lib64/python3.6/site-packages/tensorflow/python/framework/dtypes.py:518: FutureWarning: Passing (type, 1) or '1type' as a synonym of type is deprecated; in a future version of numpy, it will be understood as (type, (1,)) / '(1,)type'.\n",
      "  _np_qint16 = np.dtype([(\"qint16\", np.int16, 1)])\n",
      "/local/java/python-pip-packages.cs342/lib64/python3.6/site-packages/tensorflow/python/framework/dtypes.py:519: FutureWarning: Passing (type, 1) or '1type' as a synonym of type is deprecated; in a future version of numpy, it will be understood as (type, (1,)) / '(1,)type'.\n",
      "  _np_quint16 = np.dtype([(\"quint16\", np.uint16, 1)])\n",
      "/local/java/python-pip-packages.cs342/lib64/python3.6/site-packages/tensorflow/python/framework/dtypes.py:520: FutureWarning: Passing (type, 1) or '1type' as a synonym of type is deprecated; in a future version of numpy, it will be understood as (type, (1,)) / '(1,)type'.\n",
      "  _np_qint32 = np.dtype([(\"qint32\", np.int32, 1)])\n",
      "/local/java/python-pip-packages.cs342/lib64/python3.6/site-packages/tensorflow/python/framework/dtypes.py:525: FutureWarning: Passing (type, 1) or '1type' as a synonym of type is deprecated; in a future version of numpy, it will be understood as (type, (1,)) / '(1,)type'.\n",
      "  np_resource = np.dtype([(\"resource\", np.ubyte, 1)])\n",
      "/local/java/python-pip-packages.cs342/lib64/python3.6/site-packages/tensorboard/compat/tensorflow_stub/dtypes.py:541: FutureWarning: Passing (type, 1) or '1type' as a synonym of type is deprecated; in a future version of numpy, it will be understood as (type, (1,)) / '(1,)type'.\n",
      "  _np_qint8 = np.dtype([(\"qint8\", np.int8, 1)])\n",
      "/local/java/python-pip-packages.cs342/lib64/python3.6/site-packages/tensorboard/compat/tensorflow_stub/dtypes.py:542: FutureWarning: Passing (type, 1) or '1type' as a synonym of type is deprecated; in a future version of numpy, it will be understood as (type, (1,)) / '(1,)type'.\n",
      "  _np_quint8 = np.dtype([(\"quint8\", np.uint8, 1)])\n",
      "/local/java/python-pip-packages.cs342/lib64/python3.6/site-packages/tensorboard/compat/tensorflow_stub/dtypes.py:543: FutureWarning: Passing (type, 1) or '1type' as a synonym of type is deprecated; in a future version of numpy, it will be understood as (type, (1,)) / '(1,)type'.\n",
      "  _np_qint16 = np.dtype([(\"qint16\", np.int16, 1)])\n",
      "/local/java/python-pip-packages.cs342/lib64/python3.6/site-packages/tensorboard/compat/tensorflow_stub/dtypes.py:544: FutureWarning: Passing (type, 1) or '1type' as a synonym of type is deprecated; in a future version of numpy, it will be understood as (type, (1,)) / '(1,)type'.\n",
      "  _np_quint16 = np.dtype([(\"quint16\", np.uint16, 1)])\n",
      "/local/java/python-pip-packages.cs342/lib64/python3.6/site-packages/tensorboard/compat/tensorflow_stub/dtypes.py:545: FutureWarning: Passing (type, 1) or '1type' as a synonym of type is deprecated; in a future version of numpy, it will be understood as (type, (1,)) / '(1,)type'.\n",
      "  _np_qint32 = np.dtype([(\"qint32\", np.int32, 1)])\n",
      "/local/java/python-pip-packages.cs342/lib64/python3.6/site-packages/tensorboard/compat/tensorflow_stub/dtypes.py:550: FutureWarning: Passing (type, 1) or '1type' as a synonym of type is deprecated; in a future version of numpy, it will be understood as (type, (1,)) / '(1,)type'.\n",
      "  np_resource = np.dtype([(\"resource\", np.ubyte, 1)])\n"
     ]
    }
   ],
   "source": [
    "import numpy as np\n",
    "import keras\n",
    "from keras.models import Sequential\n",
    "from keras.layers import Dense, Activation, Conv2D, Flatten, MaxPooling2D, Dropout\n",
    "from keras.optimizers import SGD\n",
    "train_x = np.load('/modules/cs342/2019/lab7/data/mnist_train_x.npy')\n",
    "train_y = np.load('/modules/cs342/2019/lab7/data/mnist_train_y.npy')\n",
    "test_x_noisy = np.load('/modules/cs342/2019/lab7/data/mnist_test_x.npy')\n",
    "#test_x_denoised = np.load('/modules/cs342/2019/lab7/data/mnist_test_x_denoised.npy')\n",
    "test_x_denoised = np.load('./data/mnist_test_x_denoised.npy') #my data from lab 6\n",
    "test_y = np.load('/modules/cs342/2019/lab7/data/mnist_test_y.npy')\n"
   ]
  },
  {
   "cell_type": "markdown",
   "metadata": {},
   "source": [
    "The MNIST dataset consists of 60,0000 training images and 5,000 testing images. Each image is labelled with the digit it depicts, from 0 to 9. "
   ]
  },
  {
   "cell_type": "code",
   "execution_count": 2,
   "metadata": {},
   "outputs": [
    {
     "name": "stdout",
     "output_type": "stream",
     "text": [
      "train_x shape:          (60000, 28, 28)\n",
      "train_y shape:          (60000,)\n",
      "test_x_noisy shape:    (5000, 28, 28)\n",
      "test_x_denoised shape:  (5000, 784)\n",
      "test_y shape:           (5000,)\n"
     ]
    }
   ],
   "source": [
    "print('train_x shape:         ', train_x.shape)\n",
    "print('train_y shape:         ', train_y.shape)\n",
    "print('test_x_noisy shape:   ', test_x_noisy.shape)\n",
    "print('test_x_denoised shape: ', test_x_denoised.shape)\n",
    "print('test_y shape:          ', test_y.shape)"
   ]
  },
  {
   "cell_type": "markdown",
   "metadata": {},
   "source": [
    "## 1. Prepare the MNIST dataset for classification (5 marks)\n",
    "\n",
    "1. Normalize the training and test data to the range 0 to 1.\n",
    "\n",
    "\n",
    "2. Convert the training and test labels to one-hot encoded vectors.\n",
    "\n",
    "\n",
    "3. Use the ```np.expand_dims``` function to add an additional dimension to the training and test data in the last axis; i.e., the shape of the training set after this operation should be ```(60000, 28, 28, 1)``` . Convolutional layers in Keras expect each data point to have 3 dimensions: width, height and color channels. As the MNIST dataset consists of greyscale images, the number of channels is equal to 1."
   ]
  },
  {
   "cell_type": "code",
   "execution_count": 3,
   "metadata": {},
   "outputs": [
    {
     "name": "stdout",
     "output_type": "stream",
     "text": [
      "[0. 0. 0. 0. 0. 0. 0. 0. 1. 0.]\n",
      "(60000, 28, 28, 1)\n",
      "(5000, 28, 28, 1)\n"
     ]
    }
   ],
   "source": [
    "train_data = np.reshape(train_x,(60000,28,28))/255\n",
    "test_data = np.reshape(test_x_noisy,(5000,28,28))/255\n",
    "y_hot_train = keras.utils.to_categorical(train_y)\n",
    "y_hot_test = keras.utils.to_categorical(test_y)\n",
    "\n",
    "test_data_denoised = np.reshape(test_x_denoised,(5000,28,28)) # already normalized\n",
    "\n",
    "train_data_3ax = np.expand_dims(train_data,axis=3)\n",
    "test_data_3ax = np.expand_dims(test_data,axis=3)\n",
    "test_data_d_3ax = np.expand_dims(test_data_denoised,axis=3)\n",
    "\n",
    "print(y_hot_train[1])\n",
    "print(train_data_3ax.shape)\n",
    "print(test_data_d_3ax.shape)\n"
   ]
  },
  {
   "cell_type": "code",
   "execution_count": 4,
   "metadata": {},
   "outputs": [],
   "source": [
    "import matplotlib.pyplot as plt\n",
    "\n",
    "def display_mnist(data):\n",
    "    fig = plt.figure(figsize=(12,12))\n",
    "    for i in range(5):\n",
    "        axe = fig.add_subplot(1,5,i+1)\n",
    "        plt.imshow(data[i].reshape(28,28), cmap = 'gray')\n",
    "\n",
    "plt.show()"
   ]
  },
  {
   "cell_type": "code",
   "execution_count": 5,
   "metadata": {},
   "outputs": [
    {
     "data": {
      "image/png": "[encoded data removed]",
      "text/plain": [
       "<Figure size 864x864 with 5 Axes>"
      ]
     },
     "metadata": {
      "needs_background": "light"
     },
     "output_type": "display_data"
    }
   ],
   "source": [
    "display_mnist(test_data_d_3ax[:5])"
   ]
  },
  {
   "cell_type": "markdown",
   "metadata": {},
   "source": [
    "## 2. Design a CNN to classify images from the MNIST dataset (50 marks)\n",
    "\n",
    "\n",
    "Use ```mnist_train_x.npy``` as the training data and ```mnist_test_x_denoised.npy``` to test your CNN. Your model should predict the label associated with each image, i.e., ```mnist_train_y.npy``` and ```mnist_test_y.npy``` for the training and test data, respectively. \n",
    "\n",
    "Use your knowledge of the different types of layers and their purpose to build a model that performs well on the testing data. You will be assessed on both the design of your model and its performance on the test data.\n",
    "\n",
    "\n",
    "You may use any combination of the following layers in Keras:\n",
    "\n",
    "- ```Conv2D()```\n",
    "- ```Dense()```\n",
    "\n",
    "You do not need to use all layer types if you do not deem it necessary to do so. You may also use the ```Flatten()```, ```MaxPooling2D()```, and ```Dropout()``` operations. These operations are added to the model in the same way as the layers above but are not considered additional layers in themselves.\n",
    "\n",
    "Once you have designed your CNN model, use the ```model.compile```, ```model.fit```, and ```model.evaluate``` functions to train and test your model.\n",
    "\n",
    "**You must design your model according to the following requirements:**\n",
    "\n",
    "1. Each training epoch must require no more than 20 seconds to complete on a DCS machine.\n",
    "\n",
    "2. The model should be trained for a maximum of 5 epochs.\n",
    "\n",
    "3. The model must use no more than 7 layers in total.\n",
    "\n",
    "This question will be marked according to the following criteria:\n",
    "\n",
    "##### Criterion 1: Design (25 marks)\n",
    "- Usage of your own denoised images from Lab 6  (5 marks)\n",
    "- Usage of some form of regularization (10 marks)\n",
    "- Sensible CNN architecture design (10 marks)\n",
    "\n",
    "\n",
    "##### Criterion 2: Performance (25 marks)\n",
    "- 70%+ Accuracy on the test set (+5 marks)\n",
    "- 80%+ Accuracy on the test set (+10 marks)\n",
    "- 85%+ Accuracy on the test set (+10 marks)"
   ]
  },
  {
   "cell_type": "code",
   "execution_count": 9,
   "metadata": {},
   "outputs": [
    {
     "name": "stdout",
     "output_type": "stream",
     "text": [
      "Epoch 1/5\n",
      "60000/60000 [==============================] - 11s 190us/step - loss: 0.4258 - accuracy: 0.8661\n",
      "Epoch 2/5\n",
      "60000/60000 [==============================] - 11s 188us/step - loss: 0.1453 - accuracy: 0.9559\n",
      "Epoch 3/5\n",
      "60000/60000 [==============================] - 11s 190us/step - loss: 0.1110 - accuracy: 0.9654\n",
      "Epoch 4/5\n",
      "60000/60000 [==============================] - 11s 189us/step - loss: 0.0975 - accuracy: 0.9699\n",
      "Epoch 5/5\n",
      "60000/60000 [==============================] - 12s 194us/step - loss: 0.0855 - accuracy: 0.9734\n"
     ]
    },
    {
     "data": {
      "text/plain": [
       "<keras.callbacks.callbacks.History at 0x7f833dcfa6a0>"
      ]
     },
     "execution_count": 9,
     "metadata": {},
     "output_type": "execute_result"
    }
   ],
   "source": [
    "sgd = SGD(learning_rate=0.05)\n",
    "model = Sequential()\n",
    "\n",
    "model.add(Conv2D(50, kernel_size=3, activation='relu', input_shape=(28,28,1)))\n",
    "model.add(MaxPooling2D(pool_size=(2, 2), strides=None, padding='valid', data_format=None))\n",
    "model.add(Conv2D(30, kernel_size=3, activation='relu'))\n",
    "model.add(MaxPooling2D(pool_size=(2, 2), strides=None, padding='valid', data_format=None))\n",
    "model.add(Flatten())\n",
    "model.add(Dropout(0.3))\n",
    "model.add(Dense(64, use_bias='true', activation='sigmoid'))\n",
    "model.add(Dense(32, use_bias='true', activation='sigmoid'))\n",
    "model.add(Dense(10,use_bias='true',activation='softmax'))\n",
    "\n",
    "\n",
    "model.compile(loss='categorical_crossentropy', optimizer=sgd , metrics=['accuracy'])\n",
    "\n",
    "model.fit(train_data_3ax, y_hot_train, epochs=5, batch_size=64, verbose=1)\n"
   ]
  },
  {
   "cell_type": "code",
   "execution_count": 10,
   "metadata": {},
   "outputs": [
    {
     "name": "stdout",
     "output_type": "stream",
     "text": [
      "5000/5000 [==============================] - 0s 57us/step\n",
      "the accuray is 91.97999835014343 %\n"
     ]
    }
   ],
   "source": [
    "score = model.evaluate(test_data_d_3ax, y_hot_test, batch_size=64)\n",
    "print ('the accuray is', score[1]*100, '%')"
   ]
  },
  {
   "cell_type": "markdown",
   "metadata": {},
   "source": [
    "## 3. Discuss your key design choices for the CNN architecture in exercise 2 (30 marks)"
   ]
  },
  {
   "cell_type": "markdown",
   "metadata": {},
   "source": [
    "Consider your architecture design choices in the previous exercise. Discuss your design choices for creating an effective model. In your discussion, please consider:\n",
    "\n",
    "a. Choice of activation functions.\n",
    "\n",
    "b. Choice of loss function.\n",
    "\n",
    "c. Choice of layer type and the purpose of using layers of this type."
   ]
  },
  {
   "cell_type": "markdown",
   "metadata": {},
   "source": [
    "# Answer:\n",
    "\n",
    "Having done some research on CNNs, I decided to use a structure similar to LeNet-5. This means having the Conv2d layers at the beginning, each one followed by a MaxPooling2D layer to reduce the time needed for each epochs.\n",
    "When looking at the kernel parameter, the choice was made to have less layers to have a kernel of 3 for each Conv2D layers.\n",
    "\n",
    "The Dropout layer should reduce the overfitting effect and increase the running speed slightly.\n",
    "2 hidden Dense layers help increasing the accuracy and the output layer has 10 neurons as the one hot encoded vectors have 10 elements in their arrays. The output has a softmax activation function rather than a sigmoid as it was found through testing than the CNN would gain in accuracy.\n",
    "\n",
    "It is important to notice that the activation functions for the Conv2D layers and the Dense ones are different. After some testing, Conv2D seemed to work better with a relu activation function, when the Dense layers work better with a sigmoid function.\n",
    "\n",
    "The Loss function is categorical_crossentropy as there are 10 different classes. I used binary_crossentropy by inattention for sometimes and the CNN would look like it was working well. However, it was only assigning the right values to one class and not split the data between the ten categories.\n",
    "\n",
    "A mistake I made at the beginning was to have a learning rate quite high. This would lead to a poor accuracy. When reduced to 0.05, the CNN worked a lot more effectively.\n"
   ]
  },
  {
   "cell_type": "markdown",
   "metadata": {},
   "source": [
    "## 4. Test your CNN using MNIST images before denoising (15 marks)\n",
    "Test your CNN using the noisy images (```mnist_test_x.npy```) after training on the clean images (```mnist_train_x.npy```). How does the model perform compared to testing with the denoised images? Please explain your observations. "
   ]
  },
  {
   "cell_type": "code",
   "execution_count": 11,
   "metadata": {},
   "outputs": [
    {
     "name": "stdout",
     "output_type": "stream",
     "text": [
      "5000/5000 [==============================] - 0s 54us/step\n",
      "the accuray is 81.19999766349792 %\n"
     ]
    }
   ],
   "source": [
    "score = model.evaluate(test_data_3ax, y_hot_test, batch_size=64)\n",
    "print ('the accuray is', score[1]*100, '%')"
   ]
  },
  {
   "cell_type": "markdown",
   "metadata": {},
   "source": [
    "## 5. Deliverables\n",
    "\n",
    "Submit via Tabula:\n",
    "\n",
    "1. The code and discussions for Lab 6 and Lab 7 as separate Jupyter files.\n",
    "\n",
    "2. Your own denoised data ```mnist_test_x_denoised.npy``` if these data were used in this Lab.\n"
   ]
  }
 ],
 "metadata": {
  "kernelspec": {
   "display_name": "Python 3",
   "language": "python",
   "name": "python3"
  },
  "language_info": {
   "codemirror_mode": {
    "name": "ipython",
    "version": 3
   },
   "file_extension": ".py",
   "mimetype": "text/x-python",
   "name": "python",
   "nbconvert_exporter": "python",
   "pygments_lexer": "ipython3",
   "version": "3.6.8"
  }
 },
 "nbformat": 4,
 "nbformat_minor": 2
}
